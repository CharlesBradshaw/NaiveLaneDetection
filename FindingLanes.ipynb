{
 "cells": [
  {
   "cell_type": "code",
   "execution_count": 1,
   "metadata": {},
   "outputs": [],
   "source": [
    "import numpy as np\n",
    "import cv2\n",
    "import matplotlib.pyplot as plt\n",
    "from moviepy.editor import VideoFileClip\n",
    "from IPython.display import HTML"
   ]
  },
  {
   "cell_type": "code",
   "execution_count": 44,
   "metadata": {},
   "outputs": [],
   "source": [
    "#Canny Edge Detection\n",
    "def getEdges(gray_img):\n",
    "    # Define Canny Parameters\n",
    "    kernel = 5\n",
    "    lo = 50\n",
    "    hi = 150\n",
    "        \n",
    "    gray_blur = cv2.GaussianBlur(gray_img,(kernel,kernel),0)\n",
    "    edges = cv2.Canny(gray_blur,lo,hi)\n",
    "    \n",
    "    return edges\n",
    "\n",
    "def getLines(mask_img,edge_img):\n",
    "    rho = 1 # distance resolution in pixels of the Hough grid\n",
    "    theta = 1* np.pi/180 # angular resolution in radians of the Hough grid\n",
    "    threshold = 10   # minimum number of votes (intersections in Hough grid cell)\n",
    "    min_line_length = 8 #minimum number of pixels making up a line\n",
    "    max_line_gap = 6   # maximum gap in pixels between connectable line segments\n",
    "    \n",
    "    \n",
    "    color_edges = np.dstack((edge_img, edge_img, edge_img)) \n",
    "    line_image = np.copy(mask_img)*0 # creating a blank to draw lines on\n",
    "    line_image = np.dstack((line_image,line_image,line_image))\n",
    "    \n",
    "    lines = cv2.HoughLinesP(mask_img, rho, theta, threshold, np.array([]),\n",
    "                            min_line_length, max_line_gap)\n",
    "    for line in lines:\n",
    "        for x1,y1,x2,y2 in line:\n",
    "            cv2.line(line_image,(x1,y1),(x2,y2),(255,0,0),10)\n",
    "    \n",
    "    return line_image\n",
    "\n",
    "def overlayLines(img,line_image):\n",
    "    return cv2.addWeighted(img,0.8,line_image,1,0)\n",
    "    \n",
    "def maskImg(img,vertices):\n",
    "    \n",
    "    ignore_mask_color = 255\n",
    "    mask = np.zeros_like(img)\n",
    "    cv2.fillPoly(mask, np.int32(vertices), ignore_mask_color)\n",
    "    masked_img = cv2.bitwise_and(img, mask)\n",
    "    \n",
    "    return masked_img\n",
    "\n",
    "#Convert Grayscale Image To Be Compatable With RGB\n",
    "def grayToThreeChannel(img):\n",
    "    shape = img.shape\n",
    "    ret = np.zeros([shape[0],shape[1],3])\n",
    "    for i in range(0,3):\n",
    "        ret[..., i] = img\n",
    "        \n",
    "    return ret"
   ]
  },
  {
   "cell_type": "code",
   "execution_count": 47,
   "metadata": {},
   "outputs": [],
   "source": [
    "def rgb2Lanes(img):\n",
    "\n",
    "    \n",
    "    # Three Channel Color -> One Channel Gray\n",
    "    gray = cv2.cvtColor(img,cv2.COLOR_RGB2GRAY)\n",
    "    \n",
    "    edges = getEdges(gray)\n",
    "    \n",
    "    imshape = img.shape[:2][::-1]\n",
    "    # Mask Vertices Assuming A 1x1 Square\n",
    "    generalVertices = np.array([[[.2,.92],[.46,.6],[.54,.6],[.8,.92]]])\n",
    "    # Convert General Vertices In The Video's Resolution\n",
    "    vertices = np.int32(np.multiply(generalVertices ,np.tile(imshape,(4,1))))\n",
    "\n",
    "        \n",
    "    masked_edges = maskImg(edges,vertices)\n",
    "    \n",
    "    lines_edges = getLines(masked_edges,edges)\n",
    "    lines_overlayed = overlayLines(img,lines_edges)\n",
    "    ret = lines_overlayed\n",
    "    # One Channel Gray -> Three Channel Gray\n",
    "    #ret = grayToThreeChannel(ret)\n",
    "    \n",
    "    return ret"
   ]
  },
  {
   "cell_type": "code",
   "execution_count": 48,
   "metadata": {
    "scrolled": true
   },
   "outputs": [
    {
     "name": "stdout",
     "output_type": "stream",
     "text": [
      "[MoviePy] >>>> Building video test_outputhough.mp4\n",
      "[MoviePy] Writing video test_outputhough.mp4\n"
     ]
    },
    {
     "name": "stderr",
     "output_type": "stream",
     "text": [
      "100%|█████████▉| 681/682 [00:22<00:00, 29.78it/s]\n"
     ]
    },
    {
     "name": "stdout",
     "output_type": "stream",
     "text": [
      "[MoviePy] Done.\n",
      "[MoviePy] >>>> Video ready: test_outputhough.mp4 \n",
      "\n",
      "CPU times: user 12 s, sys: 2.9 s, total: 14.9 s\n",
      "Wall time: 23.8 s\n"
     ]
    }
   ],
   "source": [
    "new_clip_output = 'test_outputhough.mp4'\n",
    "test_clip = VideoFileClip(\"test.mp4\")\n",
    "new_clip = test_clip.fl_image(rgb2Lanes) \n",
    "%time new_clip.write_videofile(new_clip_output, audio=False)"
   ]
  },
  {
   "cell_type": "code",
   "execution_count": 49,
   "metadata": {
    "scrolled": true
   },
   "outputs": [
    {
     "data": {
      "text/html": [
       "\n",
       "<video width=\"640\" height=\"300\" controls>\n",
       "  <source src=\"test_outputhough.mp4\" type=\"video/mp4\">\n",
       "</video>\n"
      ],
      "text/plain": [
       "<IPython.core.display.HTML object>"
      ]
     },
     "execution_count": 49,
     "metadata": {},
     "output_type": "execute_result"
    }
   ],
   "source": [
    "HTML(\"\"\"\n",
    "<video width=\"640\" height=\"300\" controls>\n",
    "  <source src=\"{0}\" type=\"video/mp4\">\n",
    "</video>\n",
    "\"\"\".format(new_clip_output))"
   ]
  },
  {
   "cell_type": "code",
   "execution_count": null,
   "metadata": {
    "collapsed": true
   },
   "outputs": [],
   "source": []
  },
  {
   "cell_type": "code",
   "execution_count": null,
   "metadata": {
    "collapsed": true
   },
   "outputs": [],
   "source": []
  },
  {
   "cell_type": "code",
   "execution_count": null,
   "metadata": {
    "collapsed": true
   },
   "outputs": [],
   "source": []
  }
 ],
 "metadata": {
  "kernelspec": {
   "display_name": "Python 3",
   "language": "python",
   "name": "python3"
  },
  "language_info": {
   "codemirror_mode": {
    "name": "ipython",
    "version": 3
   },
   "file_extension": ".py",
   "mimetype": "text/x-python",
   "name": "python",
   "nbconvert_exporter": "python",
   "pygments_lexer": "ipython3",
   "version": "3.5.2"
  },
  "widgets": {
   "state": {},
   "version": "1.1.2"
  }
 },
 "nbformat": 4,
 "nbformat_minor": 2
}
