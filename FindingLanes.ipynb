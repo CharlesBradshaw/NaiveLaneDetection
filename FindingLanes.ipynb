{
 "cells": [
  {
   "cell_type": "code",
   "execution_count": 9,
   "metadata": {
    "collapsed": true
   },
   "outputs": [],
   "source": [
    "import imageio\n",
    "imageio.plugins.ffmpeg.download()"
   ]
  },
  {
   "cell_type": "code",
   "execution_count": 38,
   "metadata": {
    "collapsed": true
   },
   "outputs": [],
   "source": [
    "import numpy as np\n",
    "import cv2\n",
    "import matplotlib.pyplot as plt\n",
    "import matplotlib.image as mpimg\n",
    "from moviepy.editor import VideoFileClip\n",
    "from IPython.display import HTML"
   ]
  },
  {
   "cell_type": "code",
   "execution_count": 30,
   "metadata": {
    "collapsed": true
   },
   "outputs": [],
   "source": [
    "#Canny Edge Detection\n",
    "def getEdges(gray_img):\n",
    "    # Define Canny Parameters\n",
    "    kernel = 5 #blurs image to remove noisy lines\n",
    "    lo = 50 #lower bound for connection to high gradient (0-hi)\n",
    "    hi = 150 #lower bound to be considered high gradient (0-255)\n",
    "        \n",
    "    gray_blur = cv2.GaussianBlur(gray_img,(kernel,kernel),0)\n",
    "    edges = cv2.Canny(gray_blur,lo,hi)\n",
    "    \n",
    "    return edges\n",
    "\n",
    "#Detect Lines \n",
    "def getBasicLines(mask_img,edge_img):\n",
    "    \n",
    "    \n",
    "    rho = 1 # distance resolution in pixels of the Hough grid\n",
    "    theta = 1* np.pi/180 # angular resolution in radians of the Hough grid\n",
    "    threshold = 8   # minimum number of votes (intersections in Hough grid cell)\n",
    "    min_line_length = 8 #minimum number of pixels making up a line\n",
    "    max_line_gap = 8  # maximum gap in pixels between connectable line segments\n",
    "    \n",
    "    \n",
    "    color_edges = np.dstack((edge_img, edge_img, edge_img)) \n",
    "    \n",
    "    # create blank image to draw on\n",
    "    blank_image = np.copy(mask_img)*0\n",
    "    blank_image = np.dstack((blank_image,blank_image,blank_image))\n",
    "    \n",
    "    lines = cv2.HoughLinesP(mask_img, rho, theta, threshold, np.array([]),\n",
    "                            min_line_length, max_line_gap)\n",
    "    \n",
    "    \n",
    "    return lines\n",
    "\n",
    "def avgPoints(points):\n",
    "    \n",
    "    ret = [0 for i in range(2)]\n",
    "    for i in range(2):\n",
    "        ret[i] = sum(point[i] for point in points)\n",
    "    \n",
    "    for i in range(2):\n",
    "        ret[i] /= len(points)\n",
    "    return ret\n",
    "\n",
    "def calcYIntercept(m,point):\n",
    "    return point[1] - point[0]*m\n",
    "\n",
    "def calcX(y,m,b):\n",
    "    return int((y-b)/m)\n",
    "\n",
    "def calcEndpoints(m,point,y1,y2):\n",
    "    b = calcYIntercept(m,point)\n",
    "    #print(\"B: \",b)\n",
    "    x1 = calcX(y1,m,b)\n",
    "    x2 = calcX(y2,m,b)\n",
    "    return [x1,y1,x2,y2]\n",
    "    \n",
    "\n",
    "def combineLines(slopes,centers):\n",
    "    \n",
    "    if len(slopes) != 0:\n",
    "        main_slope = sum(slopes)/len(slopes)\n",
    "        main_center = avgPoints(centers)\n",
    "        main_endpoints = calcEndpoints(main_slope,main_center,360,720)\n",
    "    else:\n",
    "        main_endpoints = [0,0,0,0]\n",
    "        \n",
    "    return main_endpoints\n",
    "    \n",
    "    \n",
    "        \n",
    "#Calculates Main Left / Right lines   \n",
    "def calcMainLines(blank_image,lines):\n",
    "    \n",
    "    left_slopes = []\n",
    "    left_centers = []\n",
    "    right_slopes = []\n",
    "    right_centers = []\n",
    "    \n",
    "    for line in lines:\n",
    "        for x1,y1,x2,y2 in line:\n",
    "            if x1-x2 != 0:\n",
    "                \n",
    "                #Calc Line Parameters\n",
    "                slope = (y1-y2)/(x1-x2)\n",
    "                center = [(x1+x2)/2,(y1+y2)/2]\n",
    "                abs_slope = abs(slope)\n",
    "                \n",
    "                #Filter lines too vertical / horizontal\n",
    "                if abs_slope > 3/7 and abs_slope < 6/7:\n",
    "                    \n",
    "                    #If the line has a positive slope, assume left slope\n",
    "                    if slope == abs_slope:\n",
    "                        left_slopes.append(slope)\n",
    "                        left_centers.append(center)\n",
    "                        \n",
    "                    else:\n",
    "                        right_slopes.append(slope)\n",
    "                        right_centers.append(center)\n",
    "      \n",
    "    # calc and draw left line\n",
    "    left_endpoints = combineLines(left_slopes,left_centers)\n",
    "    cv2.line(blank_image,(left_endpoints[0],left_endpoints[1]),(left_endpoints[2],left_endpoints[3]),(255,0,0),10)\n",
    "    \n",
    "    # calc and draw right line\n",
    "    right_endpoints = combineLines(right_slopes,right_centers)\n",
    "    cv2.line(blank_image,(right_endpoints[0],right_endpoints[1]),(right_endpoints[2],right_endpoints[3]),(255,0,0),10)\n",
    "\n",
    "    # not blank unless there were no lines\n",
    "    return blank_image\n",
    "def overlayLines(img,line_image):\n",
    "    return cv2.addWeighted(img,0.8,line_image,1,0)\n",
    "\n",
    "#Applies a mask to the image so only the road is visible\n",
    "def maskImg(img,vertices):\n",
    "    \n",
    "    ignore_mask_color = 255\n",
    "    mask = np.zeros_like(img)\n",
    "    cv2.fillPoly(mask, np.int32(vertices), ignore_mask_color)\n",
    "    masked_img = cv2.bitwise_and(img, mask)\n",
    "    \n",
    "    return masked_img\n",
    "\n",
    "#Convert Grayscale Image To Be Compatable With RGB\n",
    "def grayToThreeChannel(img):\n",
    "    shape = img.shape\n",
    "    ret = np.zeros([shape[0],shape[1],3])\n",
    "    \n",
    "    # copys grayscale image to a 3 channel image\n",
    "    for i in range(0,3):\n",
    "        ret[..., i] = img\n",
    "        \n",
    "    return ret"
   ]
  },
  {
   "cell_type": "code",
   "execution_count": 32,
   "metadata": {
    "scrolled": true
   },
   "outputs": [
    {
     "name": "stdout",
     "output_type": "stream",
     "text": [
      ".DS_Store\n",
      "challenge.mp4\n",
      "[MoviePy] >>>> Building video test_videos/output_challenge.mp4\n",
      "[MoviePy] Writing video test_videos/output_challenge.mp4\n"
     ]
    },
    {
     "name": "stderr",
     "output_type": "stream",
     "text": [
      "100%|██████████| 251/251 [00:23<00:00, 10.68it/s]\n"
     ]
    },
    {
     "name": "stdout",
     "output_type": "stream",
     "text": [
      "[MoviePy] Done.\n",
      "[MoviePy] >>>> Video ready: test_videos/output_challenge.mp4 \n",
      "\n",
      "CPU times: user 9.92 s, sys: 2.92 s, total: 12.8 s\n",
      "Wall time: 25.4 s\n",
      "output_challenge.mp4\n",
      "output_solidWhiteRight.mp4\n",
      "output_solidYellowLeft.mp4\n",
      "solidWhiteRight.mp4\n",
      "[MoviePy] >>>> Building video test_videos/output_solidWhiteRight.mp4\n",
      "[MoviePy] Writing video test_videos/output_solidWhiteRight.mp4\n"
     ]
    },
    {
     "name": "stderr",
     "output_type": "stream",
     "text": [
      "100%|█████████▉| 221/222 [00:08<00:00, 29.07it/s]\n"
     ]
    },
    {
     "name": "stdout",
     "output_type": "stream",
     "text": [
      "[MoviePy] Done.\n",
      "[MoviePy] >>>> Video ready: test_videos/output_solidWhiteRight.mp4 \n",
      "\n",
      "CPU times: user 4.17 s, sys: 1.15 s, total: 5.33 s\n",
      "Wall time: 9.29 s\n",
      "solidYellowLeft.mp4\n",
      "[MoviePy] >>>> Building video test_videos/output_solidYellowLeft.mp4\n",
      "[MoviePy] Writing video test_videos/output_solidYellowLeft.mp4\n"
     ]
    },
    {
     "name": "stderr",
     "output_type": "stream",
     "text": [
      "100%|█████████▉| 681/682 [00:27<00:00, 24.87it/s]\n"
     ]
    },
    {
     "name": "stdout",
     "output_type": "stream",
     "text": [
      "[MoviePy] Done.\n",
      "[MoviePy] >>>> Video ready: test_videos/output_solidYellowLeft.mp4 \n",
      "\n",
      "CPU times: user 13.3 s, sys: 3.83 s, total: 17.2 s\n",
      "Wall time: 28.3 s\n"
     ]
    }
   ],
   "source": [
    "import os\n",
    "\n",
    "files = os.listdir(\"test_videos/\")\n",
    "for file in files:\n",
    "    print(file)\n",
    "    if file[0] != \".\" and file[0:6] != \"output\":\n",
    "        new_clip_output = \"test_videos/output_\"+file\n",
    "        test_clip = VideoFileClip(\"test_videos/\"+file)\n",
    "        new_clip = test_clip.fl_image(rgb2Lanes) \n",
    "        %time new_clip.write_videofile(new_clip_output, audio=False)"
   ]
  },
  {
   "cell_type": "code",
   "execution_count": 33,
   "metadata": {
    "scrolled": false
   },
   "outputs": [
    {
     "data": {
      "text/html": [
       "\n",
       "<video width=\"640\" height=\"300\" controls>\n",
       "  <source src=\"test_videos/output_solidYellowLeft.mp4\" type=\"video/mp4\">\n",
       "</video>\n"
      ],
      "text/plain": [
       "<IPython.core.display.HTML object>"
      ]
     },
     "execution_count": 33,
     "metadata": {},
     "output_type": "execute_result"
    }
   ],
   "source": [
    "HTML(\"\"\"\n",
    "<video width=\"640\" height=\"300\" controls>\n",
    "  <source src=\"{0}\" type=\"video/mp4\">\n",
    "</video>\n",
    "\"\"\".format(new_clip_output))"
   ]
  },
  {
   "cell_type": "code",
   "execution_count": 45,
   "metadata": {},
   "outputs": [
    {
     "name": "stdout",
     "output_type": "stream",
     "text": [
      "output_solidWhiteCurve.jpg\n",
      "output_solidWhiteRight.jpg\n",
      "output_solidYellowCurve.jpg\n",
      "output_solidYellowCurve2.jpg\n",
      "output_solidYellowLeft.jpg\n",
      "output_whiteCarLaneSwitch.jpg\n",
      "solidWhiteCurve.jpg\n",
      "solidWhiteRight.jpg\n",
      "solidYellowCurve.jpg\n",
      "solidYellowCurve2.jpg\n",
      "solidYellowLeft.jpg\n",
      "whiteCarLaneSwitch.jpg\n"
     ]
    }
   ],
   "source": [
    "files = os.listdir(\"test_images/\")\n",
    "for file in files:\n",
    "    print(file)\n",
    "    if file[0] != \".\" and file[0:6] != \"output\":\n",
    "        img = mpimg.imread(\"test_images/\"+file)\n",
    "        lanes_img = rgb2Lanes(img)\n",
    "        plt.imshow(lanes_img)\n",
    "        cv2.imwrite(\"test_images/output_\"+file,lanes_img)"
   ]
  },
  {
   "cell_type": "code",
   "execution_count": 53,
   "metadata": {},
   "outputs": [
    {
     "data": {
      "text/plain": [
       "True"
      ]
     },
     "execution_count": 53,
     "metadata": {},
     "output_type": "execute_result"
    }
   ],
   "source": [
    "img = mpimg.imread(\"test_images/solidWhiteRight.jpg\")\n",
    "\n",
    "gray = cv2.cvtColor(img,cv2.COLOR_RGB2GRAY)\n",
    "cv2.imwrite(\"pipeline_images/grayscale.jpg\",grayToThreeChannel(gray))\n",
    "\n",
    "edges = getEdges(gray)\n",
    "cv2.imwrite(\"pipeline_images/edges.jpg\",grayToThreeChannel(edges))\n",
    "\n",
    "imshape = img.shape[:2][::-1]\n",
    "general_vertices = np.array([[[.08,1],[.45,.6],[.55,.6],[.92,1]]])\n",
    "vertices = np.int32(np.multiply(general_vertices ,np.tile(imshape,(4,1))))\n",
    "\n",
    "masked_edges = maskImg(edges,vertices)\n",
    "cv2.imwrite(\"pipeline_images/masked_edges.jpg\",grayToThreeChannel(masked_edges))\n",
    "\n",
    "lines = getBasicLines(masked_edges,edges)\n",
    "major_lines = calcMainLines(img*0,lines)\n",
    "cv2.imwrite(\"pipeline_images/major_lines.jpg\",major_lines)\n",
    "\n",
    "lines_overlayed = overlayLines(img,major_lines)\n",
    "cv2.imwrite(\"pipeline_images/lines_overlayed.jpg\",lines_overlayed)"
   ]
  },
  {
   "cell_type": "code",
   "execution_count": 31,
   "metadata": {
    "collapsed": true
   },
   "outputs": [],
   "source": [
    "#Find Main Lane Lines from Color Image\n",
    "def rgb2Lanes(img):\n",
    "\n",
    "    \n",
    "    # Three Channel Color -> One Channel Gray\n",
    "    gray = cv2.cvtColor(img,cv2.COLOR_RGB2GRAY)\n",
    "    \n",
    "    # Get Edges \n",
    "    edges = getEdges(gray)\n",
    "    \n",
    "    # Define parameters for mask\n",
    "    imshape = img.shape[:2][::-1]\n",
    "    general_vertices = np.array([[[.08,1],[.45,.6],[.55,.6],[.92,1]]])\n",
    "    vertices = np.int32(np.multiply(general_vertices ,np.tile(imshape,(4,1))))\n",
    "\n",
    "    # Apply Mask\n",
    "    masked_edges = maskImg(edges,vertices)\n",
    "    \n",
    "    # Find lines using Hough Transform\n",
    "    lines = getBasicLines(masked_edges,edges)\n",
    "    \n",
    "    # Combine lines to find major lines\n",
    "    major_lines = calcMainLines(img*0,lines)\n",
    "    \n",
    "    # Combine line image with original image\n",
    "    lines_overlayed = overlayLines(img,major_lines)\n",
    "    return lines_overlayed"
   ]
  }
 ],
 "metadata": {
  "kernelspec": {
   "display_name": "Python 3",
   "language": "python",
   "name": "python3"
  },
  "language_info": {
   "codemirror_mode": {
    "name": "ipython",
    "version": 3
   },
   "file_extension": ".py",
   "mimetype": "text/x-python",
   "name": "python",
   "nbconvert_exporter": "python",
   "pygments_lexer": "ipython3",
   "version": "3.5.2"
  },
  "widgets": {
   "state": {},
   "version": "1.1.2"
  }
 },
 "nbformat": 4,
 "nbformat_minor": 2
}
